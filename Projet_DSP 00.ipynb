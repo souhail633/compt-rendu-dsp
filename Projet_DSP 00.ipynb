{
 "cells": [
  {
   "cell_type": "markdown",
   "metadata": {},
   "source": [
    "#            Projet DSP \n",
    "    Réalisé par : Megder Mohamed Al Amine / Matrache Souhail / Hammoudi Alae"
   ]
  },
  {
   "cell_type": "markdown",
   "metadata": {},
   "source": [
    "Note : Les codes ci-dessous sont modifiables directement en faisant glisser les boutons en haut à gauche de chaque schéma vers la droite pour augmenter / vers la gauche pour diminuer la valeur."
   ]
  },
  {
   "cell_type": "markdown",
   "metadata": {},
   "source": [
    "# Convolution "
   ]
  },
  {
   "cell_type": "code",
   "execution_count": 13,
   "metadata": {},
   "outputs": [
    {
     "data": {
      "application/vnd.jupyter.widget-view+json": {
       "model_id": "85a401d878524542b4dd810325f00fc4",
       "version_major": 2,
       "version_minor": 0
      },
      "text/plain": [
       "interactive(children=(IntSlider(value=2, description='Retard δ[n]', max=10, min=-10, style=SliderStyle(descrip…"
      ]
     },
     "metadata": {},
     "output_type": "display_data"
    }
   ],
   "source": [
    "import numpy as np\n",
    "import matplotlib.pyplot as plt\n",
    "from ipywidgets import interact, widgets\n",
    "%matplotlib widget\n",
    "\n",
    "class DiscreteSignalAnalyzer:\n",
    "    def __init__(self):\n",
    "        self.fig, self.axes = plt.subplots(1, 3, figsize=(15, 5))\n",
    "        plt.close()  # Prevent duplicate display\n",
    "        \n",
    "    def analyze_signals(self, retard_delta, decalage_u, debut_n, fin_n):\n",
    "        n = np.arange(debut_n, fin_n)\n",
    "        \n",
    "        # Clear previous plots\n",
    "        for ax in self.axes:\n",
    "            ax.clear()\n",
    "            ax.grid(True)\n",
    "            ax.set_xlabel('n')\n",
    "            ax.set_ylabel('Amplitude')\n",
    "        \n",
    "        # Plot step function\n",
    "        self.axes[0].stem(n, np.heaviside(n - decalage_u, 1))\n",
    "        self.axes[0].set_title(f'Échelon u[n-{decalage_u}]')\n",
    "        \n",
    "        # Plot impulse function\n",
    "        delta = np.array([1 if i == retard_delta else 0 for i in n])\n",
    "        self.axes[1].stem(n, delta)\n",
    "        self.axes[1].set_title(f'Impulsion δ[n-{retard_delta}]')\n",
    "        \n",
    "        # Plot convolution\n",
    "        self.axes[2].stem(n, np.heaviside(n - (retard_delta + decalage_u), 1))\n",
    "        self.axes[2].set_title('Convolution')\n",
    "        \n",
    "        plt.tight_layout()\n",
    "        display(self.fig)\n",
    "\n",
    "def create_interactive_display():\n",
    "    analyzer = DiscreteSignalAnalyzer()\n",
    "    \n",
    "    interact(analyzer.analyze_signals,\n",
    "            retard_delta=widgets.IntSlider(\n",
    "                min=-10, max=10, step=1, value=2,\n",
    "                description='Retard δ[n]',\n",
    "                continuous_update=True,\n",
    "                style={'description_width': 'initial'}\n",
    "            ),\n",
    "            decalage_u=widgets.IntSlider(\n",
    "                min=-10, max=10, step=1, value=0,\n",
    "                description='Décalage u[n]',\n",
    "                continuous_update=True,\n",
    "                style={'description_width': 'initial'}\n",
    "            ),\n",
    "            debut_n=widgets.IntSlider(\n",
    "                min=-20, max=0, step=1, value=-10,\n",
    "                description='Début',\n",
    "                style={'description_width': 'initial'}\n",
    "            ),\n",
    "            fin_n=widgets.IntSlider(\n",
    "                min=1, max=20, step=1, value=10,\n",
    "                description='Fin',\n",
    "                style={'description_width': 'initial'}\n",
    "            ))\n",
    "\n",
    "# Launch the interactive display\n",
    "create_interactive_display()\n"
   ]
  },
  {
   "cell_type": "markdown",
   "metadata": {},
   "source": [
    "par exemple : u[n] * δ[n-2]"
   ]
  },
  {
   "cell_type": "markdown",
   "metadata": {},
   "source": [
    "1- FFT Spectrum ( Bilateral spectrum of the signal )"
   ]
  },
  {
   "cell_type": "code",
   "execution_count": 14,
   "metadata": {},
   "outputs": [
    {
     "data": {
      "application/vnd.jupyter.widget-view+json": {
       "model_id": "79d1145d90844cbf85fc63bf13335dda",
       "version_major": 2,
       "version_minor": 0
      },
      "text/plain": [
       "interactive(children=(FloatSlider(value=5.0, description='Amplitude 1', max=10.0, step=0.5, style=SliderStyle(…"
      ]
     },
     "metadata": {},
     "output_type": "display_data"
    }
   ],
   "source": [
    "import numpy as np\n",
    "import matplotlib.pyplot as plt\n",
    "from ipywidgets import interact, widgets\n",
    "\n",
    "class SignalAnalyzer:\n",
    "    def __init__(self):\n",
    "        self.fs = 80000  # Sampling frequency (Hz)\n",
    "        self.t = np.linspace(0, 0.01, int(self.fs * 0.01), endpoint=False)\n",
    "        self.fig, self.ax = plt.subplots(figsize=(12, 6))\n",
    "        plt.close()\n",
    "\n",
    "    def analyze_signal(self, A1, f1, A2, f2, A3, f3):\n",
    "        # Convert kHz to Hz for calculations\n",
    "        f1_hz = f1 * 1000\n",
    "        f2_hz = f2 * 1000\n",
    "        f3_hz = f3 * 1000\n",
    "        \n",
    "        # Generate signal with three components\n",
    "        x_t = (A1 * np.cos(2 * np.pi * f1_hz * self.t) +\n",
    "               A2 * np.cos(2 * np.pi * f2_hz * self.t) +\n",
    "               A3 * np.cos(2 * np.pi * f3_hz * self.t))\n",
    "        \n",
    "        # FFT computation\n",
    "        X_f = np.fft.fft(x_t)\n",
    "        freqs = np.fft.fftfreq(len(self.t), 1/self.fs)\n",
    "        X_f = X_f / (len(self.t)/2)\n",
    "\n",
    "        # Clear previous plot\n",
    "        self.ax.clear()\n",
    "\n",
    "        # Plot frequency spectrum\n",
    "        self.ax.stem(freqs/1000, np.abs(X_f), basefmt=\" \")\n",
    "        self.ax.set_xlim(-20, 20)\n",
    "        self.ax.set_title(\"Spectre fréquentiel bilatéral\")\n",
    "        self.ax.set_xlabel(\"Fréquence (kHz)\")\n",
    "        self.ax.set_ylabel(\"Amplitude\")\n",
    "        self.ax.grid(True)\n",
    "\n",
    "        plt.tight_layout()\n",
    "        display(self.fig)\n",
    "\n",
    "def create_interactive_display():\n",
    "    analyzer = SignalAnalyzer()\n",
    "    \n",
    "    interact(analyzer.analyze_signal,\n",
    "            A1=widgets.FloatSlider(\n",
    "                min=0, max=10, step=0.5, value=5,\n",
    "                description='Amplitude 1',\n",
    "                style={'description_width': 'initial'}\n",
    "            ),\n",
    "            f1=widgets.FloatSlider(\n",
    "                min=0, max=10, step=0.1, value=2,\n",
    "                description='Fréquence 1 (kHz)',\n",
    "                style={'description_width': 'initial'}\n",
    "            ),\n",
    "            A2=widgets.FloatSlider(\n",
    "                min=0, max=10, step=0.5, value=3,\n",
    "                description='Amplitude 2',\n",
    "                style={'description_width': 'initial'}\n",
    "            ),\n",
    "            f2=widgets.FloatSlider(\n",
    "                min=0, max=10, step=0.1, value=3,\n",
    "                description='Fréquence 2 (kHz)',\n",
    "                style={'description_width': 'initial'}\n",
    "            ),\n",
    "            A3=widgets.FloatSlider(\n",
    "                min=0, max=10, step=0.5, value=4,\n",
    "                description='Amplitude 3',\n",
    "                style={'description_width': 'initial'}\n",
    "            ),\n",
    "            f3=widgets.FloatSlider(\n",
    "                min=0, max=10, step=0.1, value=5,\n",
    "                description='Fréquence 3 (kHz)',\n",
    "                style={'description_width': 'initial'}\n",
    "            ))\n",
    "\n",
    "# Launch the interactive display\n",
    "create_interactive_display()\n"
   ]
  },
  {
   "cell_type": "markdown",
   "metadata": {},
   "source": [
    "ici par exemple on choisit la fonction suivante : x(t) = 5 cos(2π 2000 t) + 3 cos(2π 3000 t) + 4 cos(2π 5000 t)"
   ]
  },
  {
   "cell_type": "markdown",
   "metadata": {},
   "source": [
    "2- Bilateral sampled signal spectrum :"
   ]
  },
  {
   "cell_type": "code",
   "execution_count": 15,
   "metadata": {},
   "outputs": [
    {
     "data": {
      "application/vnd.jupyter.widget-view+json": {
       "model_id": "05510575b1a247b5b329e3baab1ef88f",
       "version_major": 2,
       "version_minor": 0
      },
      "text/plain": [
       "interactive(children=(FloatSlider(value=8.0, description='Fs (kHz)', max=15.0, step=0.5, style=SliderStyle(des…"
      ]
     },
     "metadata": {},
     "output_type": "display_data"
    }
   ],
   "source": [
    "import numpy as np\n",
    "import matplotlib.pyplot as plt\n",
    "from ipywidgets import interact, widgets\n",
    "\n",
    "class SignalAnalyzer:\n",
    "    def __init__(self):\n",
    "        self.fig, self.ax = plt.subplots(figsize=(12, 6))\n",
    "        plt.close()\n",
    "\n",
    "    def analyze_signal(self, fs_khz, A1, f1, A2, f2, A3, f3):\n",
    "        fs = fs_khz * 1000\n",
    "        f = np.linspace(-20000, 20000, 20000)\n",
    "        \n",
    "        # Convert kHz to Hz\n",
    "        f1_hz = f1 * 1000\n",
    "        f2_hz = f2 * 1000\n",
    "        f3_hz = f3 * 1000\n",
    "        \n",
    "        def cosine_spectrum(A, f0, f):\n",
    "            spectrum = np.zeros_like(f)\n",
    "            spectrum += A * (np.abs(f - f0) < 1)  # Full amplitude for positive frequency\n",
    "            spectrum += A * (np.abs(f + f0) < 1)  # Full amplitude for negative frequency\n",
    "            return spectrum\n",
    "        \n",
    "        def sampled_cosine_spectrum(A, f0, fs, f):\n",
    "            spectrum = np.zeros_like(f)\n",
    "            for k in range(-5, 6):\n",
    "                spectrum += cosine_spectrum(A, f0 + k*fs, f)\n",
    "            return spectrum\n",
    "        \n",
    "        sampled_spectrum = (sampled_cosine_spectrum(A1, f1_hz, fs, f) + \n",
    "                          sampled_cosine_spectrum(A2, f2_hz, fs, f) +\n",
    "                          sampled_cosine_spectrum(A3, f3_hz, fs, f))\n",
    "\n",
    "        self.ax.clear()\n",
    "        self.ax.plot(f/1000, sampled_spectrum)\n",
    "        self.ax.set_xlim(-20, 20)\n",
    "        self.ax.set_title(\"Spectre bilatéral du signal échantillonné\")\n",
    "        self.ax.set_xlabel(\"Fréquence (kHz)\")\n",
    "        self.ax.set_ylabel(\"Amplitude\")\n",
    "        self.ax.grid(True)\n",
    "        plt.tight_layout()\n",
    "        display(self.fig)\n",
    "\n",
    "def create_interactive_display():\n",
    "    analyzer = SignalAnalyzer()\n",
    "    \n",
    "    interact(analyzer.analyze_signal,\n",
    "            fs_khz=widgets.FloatSlider(\n",
    "                min=0, max=15, step=0.5, value=8,\n",
    "                description='Fs (kHz)',\n",
    "                style={'description_width': 'initial'}\n",
    "            ),\n",
    "            A1=widgets.FloatSlider(\n",
    "                min=0, max=10, step=0.5, value=5,\n",
    "                description='Amplitude 1',\n",
    "                style={'description_width': 'initial'}\n",
    "            ),\n",
    "            f1=widgets.FloatSlider(\n",
    "                min=0, max=10, step=0.1, value=2,\n",
    "                description='Fréquence 1 (kHz)',\n",
    "                style={'description_width': 'initial'}\n",
    "            ),\n",
    "            A2=widgets.FloatSlider(\n",
    "                min=0, max=10, step=0.5, value=3,\n",
    "                description='Amplitude 2',\n",
    "                style={'description_width': 'initial'}\n",
    "            ),\n",
    "            f2=widgets.FloatSlider(\n",
    "                min=0, max=10, step=0.1, value=3,\n",
    "                description='Fréquence 2 (kHz)',\n",
    "                style={'description_width': 'initial'}\n",
    "            ),\n",
    "            A3=widgets.FloatSlider(\n",
    "                min=0, max=10, step=0.5, value=4,\n",
    "                description='Amplitude 3',\n",
    "                style={'description_width': 'initial'}\n",
    "            ),\n",
    "            f3=widgets.FloatSlider(\n",
    "                min=0, max=10, step=0.1, value=5,\n",
    "                description='Fréquence 3 (kHz)',\n",
    "                style={'description_width': 'initial'}\n",
    "            ))\n",
    "\n",
    "# Launch the interactive display\n",
    "create_interactive_display()\n"
   ]
  },
  {
   "cell_type": "markdown",
   "metadata": {},
   "source": [
    "3- Bilateral spectrum after ideal LPF :"
   ]
  },
  {
   "cell_type": "code",
   "execution_count": 16,
   "metadata": {},
   "outputs": [
    {
     "data": {
      "application/vnd.jupyter.widget-view+json": {
       "model_id": "44202869691342e99295f031fb6c2f9b",
       "version_major": 2,
       "version_minor": 0
      },
      "text/plain": [
       "interactive(children=(FloatSlider(value=8.0, description='Fs (kHz)', max=15.0, step=0.5, style=SliderStyle(des…"
      ]
     },
     "metadata": {},
     "output_type": "display_data"
    }
   ],
   "source": [
    "import numpy as np\n",
    "import matplotlib.pyplot as plt\n",
    "from ipywidgets import interact, widgets\n",
    "\n",
    "class SignalAnalyzer:\n",
    "    def __init__(self):\n",
    "        self.fig, (self.ax1, self.ax2) = plt.subplots(2, 1, figsize=(12, 10))\n",
    "        plt.close()\n",
    "\n",
    "    def analyze_signal(self, fs_khz, fc_khz, A1, f1, A2, f2, A3, f3):\n",
    "        fs = fs_khz * 1000\n",
    "        fc = fc_khz * 1000\n",
    "        f = np.linspace(-20000, 20000, 20000)\n",
    "        \n",
    "        # Convert kHz to Hz\n",
    "        f1_hz = f1 * 1000\n",
    "        f2_hz = f2 * 1000\n",
    "        f3_hz = f3 * 1000\n",
    "        \n",
    "        def cosine_spectrum(A, f0, f):\n",
    "            spectrum = np.zeros_like(f)\n",
    "            spectrum += A * (np.abs(f - f0) < 1)\n",
    "            spectrum += A * (np.abs(f + f0) < 1)\n",
    "            return spectrum\n",
    "        \n",
    "        def sampled_cosine_spectrum(A, f0, fs, f):\n",
    "            spectrum = np.zeros_like(f)\n",
    "            for k in range(-5, 6):\n",
    "                spectrum += cosine_spectrum(A, f0 + k*fs, f)\n",
    "            return spectrum\n",
    "        \n",
    "        # Original sampled spectrum\n",
    "        sampled_spectrum = (sampled_cosine_spectrum(A1, f1_hz, fs, f) + \n",
    "                          sampled_cosine_spectrum(A2, f2_hz, fs, f) +\n",
    "                          sampled_cosine_spectrum(A3, f3_hz, fs, f))\n",
    "        \n",
    "        # Apply ideal LPF\n",
    "        filtered_spectrum = sampled_spectrum * (np.abs(f) <= fc)\n",
    "\n",
    "        # Plot original sampled spectrum\n",
    "        self.ax1.clear()\n",
    "        self.ax1.plot(f/1000, sampled_spectrum)\n",
    "        self.ax1.set_xlim(-20, 20)\n",
    "        self.ax1.set_title(\"Spectre bilatéral du signal échantillonné\")\n",
    "        self.ax1.set_xlabel(\"Fréquence (kHz)\")\n",
    "        self.ax1.set_ylabel(\"Amplitude\")\n",
    "        self.ax1.grid(True)\n",
    "\n",
    "        # Plot filtered spectrum\n",
    "        self.ax2.clear()\n",
    "        self.ax2.plot(f/1000, filtered_spectrum)\n",
    "        self.ax2.set_xlim(-20, 20)\n",
    "        self.ax2.set_title(f\"Spectre après filtrage passe-bas (fc = {fc_khz} kHz)\")\n",
    "        self.ax2.set_xlabel(\"Fréquence (kHz)\")\n",
    "        self.ax2.set_ylabel(\"Amplitude\")\n",
    "        self.ax2.grid(True)\n",
    "\n",
    "        plt.tight_layout()\n",
    "        display(self.fig)\n",
    "\n",
    "def create_interactive_display():\n",
    "    analyzer = SignalAnalyzer()\n",
    "    \n",
    "    interact(analyzer.analyze_signal,\n",
    "            fs_khz=widgets.FloatSlider(\n",
    "                min=0, max=15, step=0.5, value=8,\n",
    "                description='Fs (kHz)',\n",
    "                style={'description_width': 'initial'}\n",
    "            ),\n",
    "            fc_khz=widgets.FloatSlider(\n",
    "                min=0, max=10, step=0.1, value=4,\n",
    "                description='fc (kHz)',\n",
    "                style={'description_width': 'initial'}\n",
    "            ),\n",
    "            A1=widgets.FloatSlider(\n",
    "                min=0, max=10, step=0.5, value=5,\n",
    "                description='Amplitude 1',\n",
    "                style={'description_width': 'initial'}\n",
    "            ),\n",
    "            f1=widgets.FloatSlider(\n",
    "                min=0, max=10, step=0.1, value=2,\n",
    "                description='Fréquence 1 (kHz)',\n",
    "                style={'description_width': 'initial'}\n",
    "            ),\n",
    "            A2=widgets.FloatSlider(\n",
    "                min=0, max=10, step=0.5, value=3,\n",
    "                description='Amplitude 2',\n",
    "                style={'description_width': 'initial'}\n",
    "            ),\n",
    "            f2=widgets.FloatSlider(\n",
    "                min=0, max=10, step=0.1, value=3,\n",
    "                description='Fréquence 2 (kHz)',\n",
    "                style={'description_width': 'initial'}\n",
    "            ),\n",
    "            A3=widgets.FloatSlider(\n",
    "                min=0, max=10, step=0.5, value=4,\n",
    "                description='Amplitude 3',\n",
    "                style={'description_width': 'initial'}\n",
    "            ),\n",
    "            f3=widgets.FloatSlider(\n",
    "                min=0, max=10, step=0.1, value=5,\n",
    "                description='Fréquence 3 (kHz)',\n",
    "                style={'description_width': 'initial'}\n",
    "            ))\n",
    "\n",
    "# Launch the interactive display\n",
    "create_interactive_display()\n"
   ]
  },
  {
   "cell_type": "markdown",
   "metadata": {},
   "source": [
    "Pour le même exemple : on remarque qu'on obtient une mauvaise restitution du signal après l'application du filtre passe-bas idéal LPF ( f_c = 4KHz) sur le spectre bilatéral du signal échantillonné: \n",
    "x(t)_transmission ≠ x(t)_reception. \n",
    "Puisque le théorème de Shannon vérifié : \n",
    "f_s >= 2 x f_max ---->\n",
    "8kHz >= 2 x 5kHz ---->\n",
    "8kHz >= 10kHz (non vérifié) . Par conséquent, il y a apparition du phenommène d'aliasing."
   ]
  },
  {
   "cell_type": "markdown",
   "metadata": {},
   "source": [
    "# Bonus\n",
    "Les filtres nummériques FIR et IIR."
   ]
  },
  {
   "cell_type": "markdown",
   "metadata": {},
   "source": [
    "1- FIR"
   ]
  },
  {
   "cell_type": "code",
   "execution_count": 17,
   "metadata": {},
   "outputs": [
    {
     "data": {
      "application/vnd.jupyter.widget-view+json": {
       "model_id": "2ff8232d028e4bcd89598d7a9b942301",
       "version_major": 2,
       "version_minor": 0
      },
      "text/plain": [
       "interactive(children=(IntSlider(value=31, description='Ordre', max=101, min=3, step=2), FloatSlider(value=0.5,…"
      ]
     },
     "metadata": {},
     "output_type": "display_data"
    },
    {
     "data": {
      "text/plain": [
       "<function ipywidgets.widgets.interaction._InteractFactory.__call__.<locals>.<lambda>(*args, **kwargs)>"
      ]
     },
     "execution_count": 17,
     "metadata": {},
     "output_type": "execute_result"
    }
   ],
   "source": [
    "import numpy as np\n",
    "import matplotlib.pyplot as plt\n",
    "from scipy import signal\n",
    "\n",
    "# FIR Filter Design\n",
    "class FIRFilter:\n",
    "    def __init__(self):\n",
    "        self.fig, (self.ax1, self.ax2) = plt.subplots(2, 1, figsize=(12, 8))\n",
    "        \n",
    "    def design_filter(self, numtaps, cutoff_freq):\n",
    "        # Normalized cutoff frequency (1.0 corresponds to Nyquist frequency)\n",
    "        nyq_freq = cutoff_freq / 2\n",
    "        \n",
    "        # Design FIR filter\n",
    "        fir_coeff = signal.firwin(numtaps, nyq_freq, window='hamming')\n",
    "        \n",
    "        # Frequency response\n",
    "        w, h = signal.freqz(fir_coeff)\n",
    "        \n",
    "        # Plot impulse response\n",
    "        self.ax1.stem(fir_coeff)\n",
    "        self.ax1.set_title('Réponse impulsionnelle du filtre FIR')\n",
    "        self.ax1.set_xlabel('n (échantillons)')\n",
    "        self.ax1.grid(True)\n",
    "        \n",
    "        # Plot frequency response\n",
    "        self.ax2.plot(w/np.pi, 20 * np.log10(np.abs(h)))\n",
    "        self.ax2.set_title('Réponse fréquentielle du filtre FIR')\n",
    "        self.ax2.set_xlabel('Fréquence normalisée (×π rad/échantillon)')\n",
    "        self.ax2.set_ylabel('Magnitude (dB)')\n",
    "        self.ax2.grid(True)\n",
    "        self.ax2.set_ylim(-100, 5)\n",
    "        \n",
    "        plt.tight_layout()\n",
    "        plt.show()\n",
    "\n",
    "\n",
    "from ipywidgets import interact, widgets\n",
    "\n",
    "fir = FIRFilter()\n",
    "interact(fir.design_filter,\n",
    "        numtaps=widgets.IntSlider(min=3, max=101, step=2, value=31, description='Ordre'),\n",
    "        cutoff_freq=widgets.FloatSlider(min=0.1, max=1.0, step=0.1, value=0.5, description='Fréq. de coupure'))\n",
    "\n"
   ]
  },
  {
   "cell_type": "markdown",
   "metadata": {},
   "source": [
    "2- IIR "
   ]
  },
  {
   "cell_type": "code",
   "execution_count": 21,
   "metadata": {},
   "outputs": [
    {
     "data": {
      "application/vnd.jupyter.widget-view+json": {
       "model_id": "b9d9c087ce1c42dc8650167331661c5e",
       "version_major": 2,
       "version_minor": 0
      },
      "text/plain": [
       "interactive(children=(IntSlider(value=8, description='Ordre', max=10, min=1), FloatSlider(value=0.5, descripti…"
      ]
     },
     "metadata": {},
     "output_type": "display_data"
    },
    {
     "data": {
      "text/plain": [
       "<function ipywidgets.widgets.interaction._InteractFactory.__call__.<locals>.<lambda>(*args, **kwargs)>"
      ]
     },
     "execution_count": 21,
     "metadata": {},
     "output_type": "execute_result"
    }
   ],
   "source": [
    "import numpy as np\n",
    "import matplotlib.pyplot as plt\n",
    "from scipy import signal\n",
    "\n",
    "# IIR Filter Design\n",
    "class IIRFilter:\n",
    "    def __init__(self):\n",
    "        self.fig, (self.ax1, self.ax2) = plt.subplots(2, 1, figsize=(12, 8))\n",
    "        \n",
    "    def design_filter(self, order, cutoff_freq, filter_type='butter'):\n",
    "        # Normalized cutoff frequency\n",
    "        nyq_freq = cutoff_freq / 2\n",
    "        \n",
    "        # Design IIR filter\n",
    "        if filter_type == 'butter':\n",
    "            b, a = signal.butter(order, nyq_freq)\n",
    "        elif filter_type == 'cheby1':\n",
    "            b, a = signal.cheby1(order, 1, nyq_freq)\n",
    "        \n",
    "        # Get frequency response\n",
    "        w, h = signal.freqz(b, a)\n",
    "        \n",
    "        # Plot pole-zero diagram\n",
    "        z, p, k = signal.tf2zpk(b, a)\n",
    "        self.ax1.plot(np.real(z), np.imag(z), 'o', label='Zéros')\n",
    "        self.ax1.plot(np.real(p), np.imag(p), 'x', label='Pôles')\n",
    "        self.ax1.set_title('Diagramme pôles-zéros')\n",
    "        self.ax1.grid(True)\n",
    "        self.ax1.legend()\n",
    "        \n",
    "        # Plot frequency response\n",
    "        self.ax2.plot(w/np.pi, 20 * np.log10(np.abs(h)))\n",
    "        self.ax2.set_title('Réponse fréquentielle du filtre IIR')\n",
    "        self.ax2.set_xlabel('Fréquence normalisée (×π rad/échantillon)')\n",
    "        self.ax2.set_ylabel('Magnitude (dB)')\n",
    "        self.ax2.grid(True)\n",
    "        self.ax2.set_ylim(-100, 5)\n",
    "        \n",
    "        plt.tight_layout()\n",
    "        plt.show()\n",
    " \n",
    "from ipywidgets import interact, widgets\n",
    "\n",
    "iir = IIRFilter()\n",
    "interact(iir.design_filter,\n",
    "        order=widgets.IntSlider(min=1, max=10, step=1, value=8, description='Ordre'),\n",
    "        cutoff_freq=widgets.FloatSlider(min=0.1, max=1.0, step=0.1, value=0.5, description='Fréq. de coupure'),\n",
    "        filter_type=widgets.Dropdown(options=['butter', 'cheby1'], value='cheby1', description='Type'))\n"
   ]
  }
 ],
 "metadata": {
  "kernelspec": {
   "display_name": "Python 3",
   "language": "python",
   "name": "python3"
  },
  "language_info": {
   "codemirror_mode": {
    "name": "ipython",
    "version": 3
   },
   "file_extension": ".py",
   "mimetype": "text/x-python",
   "name": "python",
   "nbconvert_exporter": "python",
   "pygments_lexer": "ipython3",
   "version": "3.10.8"
  }
 },
 "nbformat": 4,
 "nbformat_minor": 2
}
